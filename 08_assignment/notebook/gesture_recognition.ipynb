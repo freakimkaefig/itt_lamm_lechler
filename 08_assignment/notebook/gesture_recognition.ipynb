{
 "metadata": {
  "name": "",
  "signature": "sha256:c683ef2dfd1d5dfc97d35548d39e3576cfb2fdfde6932b1a88f2a22de838f15c"
 },
 "nbformat": 3,
 "nbformat_minor": 0,
 "worksheets": [
  {
   "cells": [
    {
     "cell_type": "heading",
     "level": 1,
     "metadata": {},
     "source": [
      "Gesture Recognition"
     ]
    },
    {
     "cell_type": "markdown",
     "metadata": {},
     "source": [
      "(Philosophical?) question up front: _What is a gesture?_\n",
      "\n",
      "Merriam-Webster dictionary: **ges-ture (n)**: _the use of motions of the limbs or body as a means of expression_\n",
      "\n",
      " * just about every human motion can be a gesture\n",
      " * hard to classify -> hard to detect"
     ]
    },
    {
     "cell_type": "heading",
     "level": 3,
     "metadata": {},
     "source": [
      "Some examples in HCI"
     ]
    },
    {
     "cell_type": "markdown",
     "metadata": {},
     "source": [
      " * dragging page content in the Android browser\n",
      " * 4-finger swipe gesture in iOS\n",
      " * Tom Cruise waving his hands in Minority Report\n",
      " * pinch-zoom in Google Maps\n",
      " * shaking the Wiimote in Wii Sports\n",
      " * mouse gestures in Opera browser\n",
      " * \"Graffiti\" in Palm OS\n",
      " * mouse click/keypress?\n",
      " * ..."
     ]
    },
    {
     "cell_type": "heading",
     "level": 3,
     "metadata": {},
     "source": [
      "Open Questions"
     ]
    },
    {
     "cell_type": "markdown",
     "metadata": {},
     "source": [
      " * \"Midas touch problem\": if everything is a gesture, where does it stop?\n",
      " * Segmentation: even if all input should be interpreted, where does a gesture start/end?\n",
      " * Discoverability: how can the user know what gestures are available?\n",
      " * Feedback: how can the user know that a gesture worked as expected?\n",
      " * ..."
     ]
    },
    {
     "cell_type": "heading",
     "level": 3,
     "metadata": {},
     "source": [
      "Online/Offline gestures"
     ]
    },
    {
     "cell_type": "markdown",
     "metadata": {},
     "source": [
      "* online: continuous feedback during execution, e.g.:\n",
      "   * dragging content\n",
      "   * pinch-zoom\n",
      "   * Minority Report\n",
      "   * shaking Wiimote\n",
      "* offline: triggered once after execution is complete, e.g.:\n",
      "   * 4-finger swipe\n",
      "   * mouse gestures/Graffiti\n",
      "\n",
      "Distinction not always entirely clear, e.g. 4-finger swipe already shows continuous feedback before command is executed."
     ]
    },
    {
     "cell_type": "heading",
     "level": 3,
     "metadata": {},
     "source": [
      "Prerequisite: Tracking"
     ]
    },
    {
     "cell_type": "markdown",
     "metadata": {},
     "source": [
      " * assumption: we use 2D or 3D point coordinates as inputs\n",
      "  * skeleton joints\n",
      "  * touch points on screen\n",
      "  * position of WiiMote\n",
      "  * mouse pointer\n",
      "  * ...\n",
      " * points must have consistent identifiers\n",
      " * _often_ performed automatically (e.g. Wiimote, PixelSense, ...)\n",
      " * not always the case - e.g. camera-based touch screen\n",
      "\n",
      "![Image: tracking](tracking.svg)"
     ]
    },
    {
     "cell_type": "heading",
     "level": 3,
     "metadata": {},
     "source": [
      "Online Gestures"
     ]
    },
    {
     "cell_type": "markdown",
     "metadata": {},
     "source": [
      "* Widely known example: move/scale/rotate on multitouch screen\n",
      "* all calculations for each touch point is performed relative to its starting position\n",
      "  * motion: average motion of points\n",
      "  * rotation: average rotation of points with respect to centroid\n",
      "  * scale: average distance change of points with respect to centroid\n",
      "* note: centroid will move during execution (not shown in diagram)\n",
      "  \n",
      "![Image: online_gestures](online_gestures.svg)"
     ]
    },
    {
     "cell_type": "code",
     "collapsed": false,
     "input": [
      "from IPython.display import YouTubeVideo\n",
      "YouTubeVideo('f75GMH4gyu0')"
     ],
     "language": "python",
     "metadata": {},
     "outputs": [
      {
       "html": [
        "\n",
        "        <iframe\n",
        "            width=\"400\"\n",
        "            height=300\"\n",
        "            src=\"https://www.youtube.com/embed/f75GMH4gyu0\"\n",
        "            frameborder=\"0\"\n",
        "            allowfullscreen\n",
        "        ></iframe>\n",
        "        "
       ],
       "metadata": {},
       "output_type": "pyout",
       "prompt_number": 8,
       "text": [
        "<IPython.lib.display.YouTubeVideo at 0x7fc21da3ddd0>"
       ]
      }
     ],
     "prompt_number": 8
    },
    {
     "cell_type": "heading",
     "level": 3,
     "metadata": {},
     "source": [
      "Offline Gestures"
     ]
    },
    {
     "cell_type": "markdown",
     "metadata": {},
     "source": [
      "Mini-Exercise: write a path recording tool with the Wiimote\n",
      "* based on wiipoint2d.py\n",
      "* record 2D points while button pressed\n",
      "* plot path on button release"
     ]
    },
    {
     "cell_type": "markdown",
     "metadata": {},
     "source": [
      "Example for \"stroke\" gestures: the widely used \"one dollar recognizer\" aka \"$1\"\n",
      "\n",
      "https://depts.washington.edu/aimgroup/proj/dollar/\n",
      "\n",
      " * Step 1: resample path into 64 evenly spaced points\n",
      "  * find total length of original path, divide by 64 = step size\n",
      "  * follow original path, create new point after step size\n",
      " * Step 2: correct angle\n",
      "  * find centroid of points\n",
      "  * shift all points so that centroid is at (0,0)\n",
      "  * find angle a between centroid and first point\n",
      "  * rotate all points by -a\n",
      " * Step 3: correct size\n",
      "  * find size of bounding box\n",
      "  * scale all points so that BB size is (100,100)\n",
      " * Step 4: compare to templates\n",
      "  * for each template:\n",
      "    * for each point:\n",
      "      * calculate distance between template point and current point\n",
      "      * add to total distance\n",
      "  * return template with minimum total distance\n",
      "\n",
      "![Image: one_dollar](one_dollar.svg)"
     ]
    },
    {
     "cell_type": "code",
     "collapsed": false,
     "input": [
      "points = [[0,1],[1,0],[2,-1],[3,0],[4,1],[5,0],[6,-1],[7,0],[8,1],[9,0],[10,-1],[11,0],[12,1],[13,0],[14,-1]]\n",
      "ylim(-1.5,1.5)\n",
      "plot(*zip(*points),ls=\"solid\",marker='o',color='r')"
     ],
     "language": "python",
     "metadata": {},
     "outputs": [
      {
       "metadata": {},
       "output_type": "pyout",
       "prompt_number": 9,
       "text": [
        "[<matplotlib.lines.Line2D at 0x7fc21da27750>]"
       ]
      },
      {
       "metadata": {},
       "output_type": "display_data",
       "png": "[encoded data removed]",
       "text": [
        "<matplotlib.figure.Figure at 0x7fc21d9eeb90>"
       ]
      }
     ],
     "prompt_number": 9
    },
    {
     "cell_type": "code",
     "collapsed": false,
     "input": [
      "def distance(p1,p2):\n",
      "    dx = p1[0] - p2[0]\n",
      "    dy = p1[1] - p2[1]\n",
      "    return sqrt(dx*dx+dy*dy)\n",
      "\n",
      "def total_length(point_list):\n",
      "    p1 = point_list[0]\n",
      "    length = 0.0\n",
      "    for i in range(1,len(point_list)):\n",
      "        length += distance(p1,point_list[i])\n",
      "        p1 = point_list[i]\n",
      "    return length"
     ],
     "language": "python",
     "metadata": {},
     "outputs": [],
     "prompt_number": 2
    },
    {
     "cell_type": "code",
     "collapsed": false,
     "input": [
      "total_length(points)"
     ],
     "language": "python",
     "metadata": {},
     "outputs": [
      {
       "metadata": {},
       "output_type": "pyout",
       "prompt_number": 10,
       "text": [
        "19.798989873223338"
       ]
      }
     ],
     "prompt_number": 10
    },
    {
     "cell_type": "code",
     "collapsed": false,
     "input": [
      "def resample(point_list,step_count=64):\n",
      "    newpoints = []\n",
      "    length = total_length(point_list)\n",
      "    stepsize = length/step_count\n",
      "    curpos = 0\n",
      "    newpoints.append(point_list[0])\n",
      "    i = 1\n",
      "    while i < len(point_list):\n",
      "        p1 = point_list[i-1]\n",
      "        d = distance(p1,point_list[i])\n",
      "        if curpos+d >= stepsize:\n",
      "            nx = p1[0] + ((stepsize-curpos)/d)*(point_list[i][0]-p1[0])\n",
      "            ny = p1[1] + ((stepsize-curpos)/d)*(point_list[i][1]-p1[1])\n",
      "            newpoints.append([nx,ny])\n",
      "            point_list.insert(i,[nx,ny])\n",
      "            curpos = 0\n",
      "        else:\n",
      "            curpos += d\n",
      "        i += 1\n",
      "    return newpoints"
     ],
     "language": "python",
     "metadata": {},
     "outputs": [],
     "prompt_number": 4
    },
    {
     "cell_type": "code",
     "collapsed": false,
     "input": [
      "np = resample(points)\n",
      "ylim(-1.5,1.5)\n",
      "plot(*zip(*np),ls=\"solid\",marker='o',color='r')"
     ],
     "language": "python",
     "metadata": {},
     "outputs": [
      {
       "metadata": {},
       "output_type": "pyout",
       "prompt_number": 11,
       "text": [
        "[<matplotlib.lines.Line2D at 0x7fc21db72ed0>]"
       ]
      },
      {
       "metadata": {},
       "output_type": "display_data",
       "png": "[encoded data removed]",
       "text": [
        "<matplotlib.figure.Figure at 0x7fc21d9ee4d0>"
       ]
      }
     ],
     "prompt_number": 11
    },
    {
     "cell_type": "code",
     "collapsed": false,
     "input": [],
     "language": "python",
     "metadata": {},
     "outputs": []
    }
   ],
   "metadata": {}
  }
 ]
}